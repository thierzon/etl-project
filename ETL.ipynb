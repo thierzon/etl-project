{
 "cells": [
  {
   "cell_type": "code",
   "execution_count": 1,
   "metadata": {},
   "outputs": [],
   "source": [
    "import pandas as pd\n",
    "import numpy as np\n",
    "import os"
   ]
  },
  {
   "cell_type": "markdown",
   "metadata": {},
   "source": [
    "### Extract CSVs into DataFrames"
   ]
  },
  {
   "cell_type": "code",
   "execution_count": 2,
   "metadata": {},
   "outputs": [],
   "source": [
    "tweets_file = os.path.join(\"Resources\", \"trumptweets.csv\")\n"
   ]
  },
  {
   "cell_type": "code",
   "execution_count": 3,
   "metadata": {},
   "outputs": [],
   "source": [
    "approval_file = os.path.join(\"Resources\", \"approval.csv\")\n"
   ]
  },
  {
   "cell_type": "code",
   "execution_count": 4,
   "metadata": {},
   "outputs": [
    {
     "output_type": "execute_result",
     "data": {
      "text/plain": [
       "   Unnamed: 0        date          target  \\\n",
       "0           1  2014-10-09  thomas-frieden   \n",
       "1           2  2014-10-09  thomas-frieden   \n",
       "2           3  2015-06-16     politicians   \n",
       "3           4  2015-06-24      ben-cardin   \n",
       "4           5  2015-06-24      neil-young   \n",
       "\n",
       "                                              insult  \\\n",
       "0                                               fool   \n",
       "1                                               DOPE   \n",
       "2                             all talk and no action   \n",
       "3  It's politicians like Cardin that have destroy...   \n",
       "4                                    total hypocrite   \n",
       "\n",
       "                                               tweet  \n",
       "0  Can you believe this fool, Dr. Thomas Frieden ...  \n",
       "1  Can you believe this fool, Dr. Thomas Frieden ...  \n",
       "2  Big time in U.S. today - MAKE AMERICA GREAT AG...  \n",
       "3  Politician @SenatorCardin didn't like that I s...  \n",
       "4  For the nonbeliever, here is a photo of @Neily...  "
      ],
      "text/html": "<div>\n<style scoped>\n    .dataframe tbody tr th:only-of-type {\n        vertical-align: middle;\n    }\n\n    .dataframe tbody tr th {\n        vertical-align: top;\n    }\n\n    .dataframe thead th {\n        text-align: right;\n    }\n</style>\n<table border=\"1\" class=\"dataframe\">\n  <thead>\n    <tr style=\"text-align: right;\">\n      <th></th>\n      <th>Unnamed: 0</th>\n      <th>date</th>\n      <th>target</th>\n      <th>insult</th>\n      <th>tweet</th>\n    </tr>\n  </thead>\n  <tbody>\n    <tr>\n      <th>0</th>\n      <td>1</td>\n      <td>2014-10-09</td>\n      <td>thomas-frieden</td>\n      <td>fool</td>\n      <td>Can you believe this fool, Dr. Thomas Frieden ...</td>\n    </tr>\n    <tr>\n      <th>1</th>\n      <td>2</td>\n      <td>2014-10-09</td>\n      <td>thomas-frieden</td>\n      <td>DOPE</td>\n      <td>Can you believe this fool, Dr. Thomas Frieden ...</td>\n    </tr>\n    <tr>\n      <th>2</th>\n      <td>3</td>\n      <td>2015-06-16</td>\n      <td>politicians</td>\n      <td>all talk and no action</td>\n      <td>Big time in U.S. today - MAKE AMERICA GREAT AG...</td>\n    </tr>\n    <tr>\n      <th>3</th>\n      <td>4</td>\n      <td>2015-06-24</td>\n      <td>ben-cardin</td>\n      <td>It's politicians like Cardin that have destroy...</td>\n      <td>Politician @SenatorCardin didn't like that I s...</td>\n    </tr>\n    <tr>\n      <th>4</th>\n      <td>5</td>\n      <td>2015-06-24</td>\n      <td>neil-young</td>\n      <td>total hypocrite</td>\n      <td>For the nonbeliever, here is a photo of @Neily...</td>\n    </tr>\n  </tbody>\n</table>\n</div>"
     },
     "metadata": {},
     "execution_count": 4
    }
   ],
   "source": [
    "tweets_df = pd.read_csv(tweets_file)\n",
    "tweets_df.head()"
   ]
  },
  {
   "cell_type": "code",
   "execution_count": 5,
   "metadata": {},
   "outputs": [
    {
     "output_type": "execute_result",
     "data": {
      "text/plain": [
       "      president   subgroup  modeldate  startdate    enddate         pollster  \\\n",
       "0  Donald Trump  All polls  1/20/2021  1/20/2017  1/22/2017  Morning Consult   \n",
       "1  Donald Trump  All polls  1/20/2021  1/20/2017  1/22/2017           Gallup   \n",
       "2  Donald Trump  All polls  1/20/2021  1/20/2017  1/24/2017            Ipsos   \n",
       "3  Donald Trump  All polls  1/20/2021  1/21/2017  1/23/2017           Gallup   \n",
       "4  Donald Trump  All polls  1/20/2021  1/22/2017  1/24/2017           Gallup   \n",
       "\n",
       "  grade  samplesize population    weight  ...  disapprove  adjusted_approve  \\\n",
       "0   B/C      1992.0         rv  0.680029  ...        37.0         45.686784   \n",
       "1     B      1500.0          a  0.262323  ...        45.0         45.861441   \n",
       "2    B-      1632.0          a  0.153481  ...        45.2         43.451563   \n",
       "3     B      1500.0          a  0.242845  ...        46.0         45.861441   \n",
       "4     B      1500.0          a  0.227380  ...        45.0         46.861441   \n",
       "\n",
       "   adjusted_disapprove  multiversions  tracking  \\\n",
       "0            38.055805            NaN       NaN   \n",
       "1            43.539189            NaN         T   \n",
       "2            43.780389            NaN         T   \n",
       "3            44.539189            NaN         T   \n",
       "4            43.539189            NaN         T   \n",
       "\n",
       "                                                 url poll_id question_id  \\\n",
       "0  http://static.politico.com/9b/13/82a3baf542ae9...   49249       77261   \n",
       "1  http://www.gallup.com/poll/201617/gallup-daily...   49253       77265   \n",
       "2            http://polling.reuters.com/#poll/CP3_2/   49426       77599   \n",
       "3  http://www.gallup.com/poll/201617/gallup-daily...   49262       77274   \n",
       "4  http://www.gallup.com/poll/201617/gallup-daily...   49236       77248   \n",
       "\n",
       "   createddate             timestamp  \n",
       "0    1/23/2017  11:47:59 20 Jan 2021  \n",
       "1    1/23/2017  11:47:59 20 Jan 2021  \n",
       "2     3/1/2017  11:47:59 20 Jan 2021  \n",
       "3    1/24/2017  11:47:59 20 Jan 2021  \n",
       "4    1/25/2017  11:47:59 20 Jan 2021  \n",
       "\n",
       "[5 rows x 22 columns]"
      ],
      "text/html": "<div>\n<style scoped>\n    .dataframe tbody tr th:only-of-type {\n        vertical-align: middle;\n    }\n\n    .dataframe tbody tr th {\n        vertical-align: top;\n    }\n\n    .dataframe thead th {\n        text-align: right;\n    }\n</style>\n<table border=\"1\" class=\"dataframe\">\n  <thead>\n    <tr style=\"text-align: right;\">\n      <th></th>\n      <th>president</th>\n      <th>subgroup</th>\n      <th>modeldate</th>\n      <th>startdate</th>\n      <th>enddate</th>\n      <th>pollster</th>\n      <th>grade</th>\n      <th>samplesize</th>\n      <th>population</th>\n      <th>weight</th>\n      <th>...</th>\n      <th>disapprove</th>\n      <th>adjusted_approve</th>\n      <th>adjusted_disapprove</th>\n      <th>multiversions</th>\n      <th>tracking</th>\n      <th>url</th>\n      <th>poll_id</th>\n      <th>question_id</th>\n      <th>createddate</th>\n      <th>timestamp</th>\n    </tr>\n  </thead>\n  <tbody>\n    <tr>\n      <th>0</th>\n      <td>Donald Trump</td>\n      <td>All polls</td>\n      <td>1/20/2021</td>\n      <td>1/20/2017</td>\n      <td>1/22/2017</td>\n      <td>Morning Consult</td>\n      <td>B/C</td>\n      <td>1992.0</td>\n      <td>rv</td>\n      <td>0.680029</td>\n      <td>...</td>\n      <td>37.0</td>\n      <td>45.686784</td>\n      <td>38.055805</td>\n      <td>NaN</td>\n      <td>NaN</td>\n      <td>http://static.politico.com/9b/13/82a3baf542ae9...</td>\n      <td>49249</td>\n      <td>77261</td>\n      <td>1/23/2017</td>\n      <td>11:47:59 20 Jan 2021</td>\n    </tr>\n    <tr>\n      <th>1</th>\n      <td>Donald Trump</td>\n      <td>All polls</td>\n      <td>1/20/2021</td>\n      <td>1/20/2017</td>\n      <td>1/22/2017</td>\n      <td>Gallup</td>\n      <td>B</td>\n      <td>1500.0</td>\n      <td>a</td>\n      <td>0.262323</td>\n      <td>...</td>\n      <td>45.0</td>\n      <td>45.861441</td>\n      <td>43.539189</td>\n      <td>NaN</td>\n      <td>T</td>\n      <td>http://www.gallup.com/poll/201617/gallup-daily...</td>\n      <td>49253</td>\n      <td>77265</td>\n      <td>1/23/2017</td>\n      <td>11:47:59 20 Jan 2021</td>\n    </tr>\n    <tr>\n      <th>2</th>\n      <td>Donald Trump</td>\n      <td>All polls</td>\n      <td>1/20/2021</td>\n      <td>1/20/2017</td>\n      <td>1/24/2017</td>\n      <td>Ipsos</td>\n      <td>B-</td>\n      <td>1632.0</td>\n      <td>a</td>\n      <td>0.153481</td>\n      <td>...</td>\n      <td>45.2</td>\n      <td>43.451563</td>\n      <td>43.780389</td>\n      <td>NaN</td>\n      <td>T</td>\n      <td>http://polling.reuters.com/#poll/CP3_2/</td>\n      <td>49426</td>\n      <td>77599</td>\n      <td>3/1/2017</td>\n      <td>11:47:59 20 Jan 2021</td>\n    </tr>\n    <tr>\n      <th>3</th>\n      <td>Donald Trump</td>\n      <td>All polls</td>\n      <td>1/20/2021</td>\n      <td>1/21/2017</td>\n      <td>1/23/2017</td>\n      <td>Gallup</td>\n      <td>B</td>\n      <td>1500.0</td>\n      <td>a</td>\n      <td>0.242845</td>\n      <td>...</td>\n      <td>46.0</td>\n      <td>45.861441</td>\n      <td>44.539189</td>\n      <td>NaN</td>\n      <td>T</td>\n      <td>http://www.gallup.com/poll/201617/gallup-daily...</td>\n      <td>49262</td>\n      <td>77274</td>\n      <td>1/24/2017</td>\n      <td>11:47:59 20 Jan 2021</td>\n    </tr>\n    <tr>\n      <th>4</th>\n      <td>Donald Trump</td>\n      <td>All polls</td>\n      <td>1/20/2021</td>\n      <td>1/22/2017</td>\n      <td>1/24/2017</td>\n      <td>Gallup</td>\n      <td>B</td>\n      <td>1500.0</td>\n      <td>a</td>\n      <td>0.227380</td>\n      <td>...</td>\n      <td>45.0</td>\n      <td>46.861441</td>\n      <td>43.539189</td>\n      <td>NaN</td>\n      <td>T</td>\n      <td>http://www.gallup.com/poll/201617/gallup-daily...</td>\n      <td>49236</td>\n      <td>77248</td>\n      <td>1/25/2017</td>\n      <td>11:47:59 20 Jan 2021</td>\n    </tr>\n  </tbody>\n</table>\n<p>5 rows × 22 columns</p>\n</div>"
     },
     "metadata": {},
     "execution_count": 5
    }
   ],
   "source": [
    "approval_df = pd.read_csv(approval_file)\n",
    "approval_df.head()"
   ]
  },
  {
   "cell_type": "markdown",
   "metadata": {},
   "source": [
    "### Transform tweets DataFrame"
   ]
  },
  {
   "cell_type": "code",
   "execution_count": 6,
   "metadata": {},
   "outputs": [
    {
     "output_type": "execute_result",
     "data": {
      "text/plain": [
       "         date          target\n",
       "0  2014-10-09  thomas-frieden\n",
       "1  2014-10-09  thomas-frieden\n",
       "2  2015-06-16     politicians\n",
       "3  2015-06-24      ben-cardin\n",
       "4  2015-06-24      neil-young"
      ],
      "text/html": "<div>\n<style scoped>\n    .dataframe tbody tr th:only-of-type {\n        vertical-align: middle;\n    }\n\n    .dataframe tbody tr th {\n        vertical-align: top;\n    }\n\n    .dataframe thead th {\n        text-align: right;\n    }\n</style>\n<table border=\"1\" class=\"dataframe\">\n  <thead>\n    <tr style=\"text-align: right;\">\n      <th></th>\n      <th>date</th>\n      <th>target</th>\n    </tr>\n  </thead>\n  <tbody>\n    <tr>\n      <th>0</th>\n      <td>2014-10-09</td>\n      <td>thomas-frieden</td>\n    </tr>\n    <tr>\n      <th>1</th>\n      <td>2014-10-09</td>\n      <td>thomas-frieden</td>\n    </tr>\n    <tr>\n      <th>2</th>\n      <td>2015-06-16</td>\n      <td>politicians</td>\n    </tr>\n    <tr>\n      <th>3</th>\n      <td>2015-06-24</td>\n      <td>ben-cardin</td>\n    </tr>\n    <tr>\n      <th>4</th>\n      <td>2015-06-24</td>\n      <td>neil-young</td>\n    </tr>\n  </tbody>\n</table>\n</div>"
     },
     "metadata": {},
     "execution_count": 6
    }
   ],
   "source": [
    "tweetdates_df = tweets_df[[\"date\", \"target\"]].copy()\n",
    "tweetdates_df.head()"
   ]
  },
  {
   "cell_type": "code",
   "execution_count": 7,
   "metadata": {},
   "outputs": [
    {
     "output_type": "execute_result",
     "data": {
      "text/plain": [
       "            target\n",
       "date              \n",
       "2014-10-09       2\n",
       "2015-06-16       1\n",
       "2015-06-24       3\n",
       "2015-06-25      11\n",
       "2015-06-26       3"
      ],
      "text/html": "<div>\n<style scoped>\n    .dataframe tbody tr th:only-of-type {\n        vertical-align: middle;\n    }\n\n    .dataframe tbody tr th {\n        vertical-align: top;\n    }\n\n    .dataframe thead th {\n        text-align: right;\n    }\n</style>\n<table border=\"1\" class=\"dataframe\">\n  <thead>\n    <tr style=\"text-align: right;\">\n      <th></th>\n      <th>target</th>\n    </tr>\n    <tr>\n      <th>date</th>\n      <th></th>\n    </tr>\n  </thead>\n  <tbody>\n    <tr>\n      <th>2014-10-09</th>\n      <td>2</td>\n    </tr>\n    <tr>\n      <th>2015-06-16</th>\n      <td>1</td>\n    </tr>\n    <tr>\n      <th>2015-06-24</th>\n      <td>3</td>\n    </tr>\n    <tr>\n      <th>2015-06-25</th>\n      <td>11</td>\n    </tr>\n    <tr>\n      <th>2015-06-26</th>\n      <td>3</td>\n    </tr>\n  </tbody>\n</table>\n</div>"
     },
     "metadata": {},
     "execution_count": 7
    }
   ],
   "source": [
    "grouped_tweets = tweetdates_df.groupby(by=\"date\").count()\n",
    "grouped_tweets.head()"
   ]
  },
  {
   "cell_type": "markdown",
   "metadata": {},
   "source": [
    "### Transform approval DataFrame"
   ]
  },
  {
   "cell_type": "code",
   "execution_count": 8,
   "metadata": {},
   "outputs": [
    {
     "output_type": "execute_result",
     "data": {
      "text/plain": [
       "   startdate    enddate         pollster  samplesize  adjusted_approve  \\\n",
       "0  1/20/2017  1/22/2017  Morning Consult      1992.0         45.686784   \n",
       "1  1/20/2017  1/22/2017           Gallup      1500.0         45.861441   \n",
       "2  1/20/2017  1/24/2017            Ipsos      1632.0         43.451563   \n",
       "3  1/21/2017  1/23/2017           Gallup      1500.0         45.861441   \n",
       "4  1/22/2017  1/24/2017           Gallup      1500.0         46.861441   \n",
       "\n",
       "   adjusted_disapprove                                                url  \n",
       "0            38.055805  http://static.politico.com/9b/13/82a3baf542ae9...  \n",
       "1            43.539189  http://www.gallup.com/poll/201617/gallup-daily...  \n",
       "2            43.780389            http://polling.reuters.com/#poll/CP3_2/  \n",
       "3            44.539189  http://www.gallup.com/poll/201617/gallup-daily...  \n",
       "4            43.539189  http://www.gallup.com/poll/201617/gallup-daily...  "
      ],
      "text/html": "<div>\n<style scoped>\n    .dataframe tbody tr th:only-of-type {\n        vertical-align: middle;\n    }\n\n    .dataframe tbody tr th {\n        vertical-align: top;\n    }\n\n    .dataframe thead th {\n        text-align: right;\n    }\n</style>\n<table border=\"1\" class=\"dataframe\">\n  <thead>\n    <tr style=\"text-align: right;\">\n      <th></th>\n      <th>startdate</th>\n      <th>enddate</th>\n      <th>pollster</th>\n      <th>samplesize</th>\n      <th>adjusted_approve</th>\n      <th>adjusted_disapprove</th>\n      <th>url</th>\n    </tr>\n  </thead>\n  <tbody>\n    <tr>\n      <th>0</th>\n      <td>1/20/2017</td>\n      <td>1/22/2017</td>\n      <td>Morning Consult</td>\n      <td>1992.0</td>\n      <td>45.686784</td>\n      <td>38.055805</td>\n      <td>http://static.politico.com/9b/13/82a3baf542ae9...</td>\n    </tr>\n    <tr>\n      <th>1</th>\n      <td>1/20/2017</td>\n      <td>1/22/2017</td>\n      <td>Gallup</td>\n      <td>1500.0</td>\n      <td>45.861441</td>\n      <td>43.539189</td>\n      <td>http://www.gallup.com/poll/201617/gallup-daily...</td>\n    </tr>\n    <tr>\n      <th>2</th>\n      <td>1/20/2017</td>\n      <td>1/24/2017</td>\n      <td>Ipsos</td>\n      <td>1632.0</td>\n      <td>43.451563</td>\n      <td>43.780389</td>\n      <td>http://polling.reuters.com/#poll/CP3_2/</td>\n    </tr>\n    <tr>\n      <th>3</th>\n      <td>1/21/2017</td>\n      <td>1/23/2017</td>\n      <td>Gallup</td>\n      <td>1500.0</td>\n      <td>45.861441</td>\n      <td>44.539189</td>\n      <td>http://www.gallup.com/poll/201617/gallup-daily...</td>\n    </tr>\n    <tr>\n      <th>4</th>\n      <td>1/22/2017</td>\n      <td>1/24/2017</td>\n      <td>Gallup</td>\n      <td>1500.0</td>\n      <td>46.861441</td>\n      <td>43.539189</td>\n      <td>http://www.gallup.com/poll/201617/gallup-daily...</td>\n    </tr>\n  </tbody>\n</table>\n</div>"
     },
     "metadata": {},
     "execution_count": 8
    }
   ],
   "source": [
    "approvalfinal_df = approval_df[[\"startdate\",\"enddate\",\"pollster\",\"samplesize\",\"adjusted_approve\",\"adjusted_disapprove\",\"url\"]].copy()\n",
    "approvalfinal_df.head()"
   ]
  },
  {
   "cell_type": "code",
   "execution_count": 9,
   "metadata": {},
   "outputs": [
    {
     "output_type": "execute_result",
     "data": {
      "text/plain": [
       "   startdate    enddate         pollster  samplesize  adjusted_approve  \\\n",
       "0 2017-01-20 2017-01-22  Morning Consult      1992.0         45.686784   \n",
       "1 2017-01-20 2017-01-22           Gallup      1500.0         45.861441   \n",
       "2 2017-01-20 2017-01-24            Ipsos      1632.0         43.451563   \n",
       "3 2017-01-21 2017-01-23           Gallup      1500.0         45.861441   \n",
       "4 2017-01-22 2017-01-24           Gallup      1500.0         46.861441   \n",
       "\n",
       "   adjusted_disapprove                                                url  \n",
       "0            38.055805  http://static.politico.com/9b/13/82a3baf542ae9...  \n",
       "1            43.539189  http://www.gallup.com/poll/201617/gallup-daily...  \n",
       "2            43.780389            http://polling.reuters.com/#poll/CP3_2/  \n",
       "3            44.539189  http://www.gallup.com/poll/201617/gallup-daily...  \n",
       "4            43.539189  http://www.gallup.com/poll/201617/gallup-daily...  "
      ],
      "text/html": "<div>\n<style scoped>\n    .dataframe tbody tr th:only-of-type {\n        vertical-align: middle;\n    }\n\n    .dataframe tbody tr th {\n        vertical-align: top;\n    }\n\n    .dataframe thead th {\n        text-align: right;\n    }\n</style>\n<table border=\"1\" class=\"dataframe\">\n  <thead>\n    <tr style=\"text-align: right;\">\n      <th></th>\n      <th>startdate</th>\n      <th>enddate</th>\n      <th>pollster</th>\n      <th>samplesize</th>\n      <th>adjusted_approve</th>\n      <th>adjusted_disapprove</th>\n      <th>url</th>\n    </tr>\n  </thead>\n  <tbody>\n    <tr>\n      <th>0</th>\n      <td>2017-01-20</td>\n      <td>2017-01-22</td>\n      <td>Morning Consult</td>\n      <td>1992.0</td>\n      <td>45.686784</td>\n      <td>38.055805</td>\n      <td>http://static.politico.com/9b/13/82a3baf542ae9...</td>\n    </tr>\n    <tr>\n      <th>1</th>\n      <td>2017-01-20</td>\n      <td>2017-01-22</td>\n      <td>Gallup</td>\n      <td>1500.0</td>\n      <td>45.861441</td>\n      <td>43.539189</td>\n      <td>http://www.gallup.com/poll/201617/gallup-daily...</td>\n    </tr>\n    <tr>\n      <th>2</th>\n      <td>2017-01-20</td>\n      <td>2017-01-24</td>\n      <td>Ipsos</td>\n      <td>1632.0</td>\n      <td>43.451563</td>\n      <td>43.780389</td>\n      <td>http://polling.reuters.com/#poll/CP3_2/</td>\n    </tr>\n    <tr>\n      <th>3</th>\n      <td>2017-01-21</td>\n      <td>2017-01-23</td>\n      <td>Gallup</td>\n      <td>1500.0</td>\n      <td>45.861441</td>\n      <td>44.539189</td>\n      <td>http://www.gallup.com/poll/201617/gallup-daily...</td>\n    </tr>\n    <tr>\n      <th>4</th>\n      <td>2017-01-22</td>\n      <td>2017-01-24</td>\n      <td>Gallup</td>\n      <td>1500.0</td>\n      <td>46.861441</td>\n      <td>43.539189</td>\n      <td>http://www.gallup.com/poll/201617/gallup-daily...</td>\n    </tr>\n  </tbody>\n</table>\n</div>"
     },
     "metadata": {},
     "execution_count": 9
    }
   ],
   "source": [
    "approvalfinal_df[\"startdate\"] = pd.to_datetime(approvalfinal_df.startdate)\n",
    "approvalfinal_df[\"enddate\"] = pd.to_datetime(approvalfinal_df.enddate)\n",
    "approvalfinal_df.head()"
   ]
  },
  {
   "cell_type": "markdown",
   "metadata": {},
   "source": [
    "### Create database connection"
   ]
  },
  {
   "cell_type": "code",
   "execution_count": null,
   "metadata": {},
   "outputs": [],
   "source": [
    "rds_connection_string = \"<insert user name>:<insert password>@localhost:5432/customer_db\"\n",
    "engine = create_engine(f'postgresql://{rds_connection_string}')"
   ]
  },
  {
   "cell_type": "code",
   "execution_count": null,
   "metadata": {},
   "outputs": [],
   "source": [
    "# Confirm tables\n",
    "engine.table_names()"
   ]
  },
  {
   "cell_type": "markdown",
   "metadata": {},
   "source": [
    "### Load DataFrames into database"
   ]
  },
  {
   "cell_type": "code",
   "execution_count": null,
   "metadata": {},
   "outputs": [],
   "source": [
    "new_customer_data_df.to_sql(name='customer_name', con=engine, if_exists='append', index=False)"
   ]
  },
  {
   "cell_type": "code",
   "execution_count": null,
   "metadata": {},
   "outputs": [],
   "source": [
    "new_customer_location_df.to_sql(name='customer_location', con=engine, if_exists='append', index=False)"
   ]
  },
  {
   "source": [
    "###  Confirm data has been added"
   ],
   "cell_type": "markdown",
   "metadata": {}
  },
  {
   "cell_type": "code",
   "execution_count": null,
   "metadata": {},
   "outputs": [],
   "source": [
    "pd.read_sql_query('select * from customer_name', con=engine).head()"
   ]
  },
  {
   "cell_type": "code",
   "execution_count": null,
   "metadata": {},
   "outputs": [],
   "source": [
    "pd.read_sql_query('select * from customer_location', con=engine).head()"
   ]
  }
 ],
 "metadata": {
  "kernelspec": {
   "name": "python3",
   "display_name": "Python 3.8.5 64-bit (conda)",
   "metadata": {
    "interpreter": {
     "hash": "42a5aeadb626e9fab306cc11d7880aebf2727abe172c58f891e2dedde345f7e9"
    }
   }
  },
  "language_info": {
   "codemirror_mode": {
    "name": "ipython",
    "version": 3
   },
   "file_extension": ".py",
   "mimetype": "text/x-python",
   "name": "python",
   "nbconvert_exporter": "python",
   "pygments_lexer": "ipython3",
   "version": "3.8.5-final"
  }
 },
 "nbformat": 4,
 "nbformat_minor": 2
}