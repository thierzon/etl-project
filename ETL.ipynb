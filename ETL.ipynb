{
 "cells": [
  {
   "cell_type": "code",
   "execution_count": 7,
   "metadata": {},
   "outputs": [],
   "source": [
    "import pandas as pd\n",
    "import numpy as np\n",
    "import os\n",
    "#config data, saved to config.py. Change values as instructed\n",
    "from config import postgresUname,postgresPword,postgresHost,postgresDb"
   ]
  },
  {
   "cell_type": "markdown",
   "metadata": {},
   "source": [
    "### Extract CSVs into DataFrames"
   ]
  },
  {
   "cell_type": "code",
   "execution_count": 8,
   "metadata": {},
   "outputs": [],
   "source": [
    "tweets_file = os.path.join(\"Resources\", \"trumptweets.csv\")\n"
   ]
  },
  {
   "cell_type": "code",
   "execution_count": 9,
   "metadata": {},
   "outputs": [],
   "source": [
    "approval_file = os.path.join(\"Resources\", \"approval.csv\")\n"
   ]
  },
  {
   "cell_type": "code",
   "execution_count": 12,
   "metadata": {},
   "outputs": [
    {
     "output_type": "execute_result",
     "data": {
      "text/plain": [
       "   Unnamed: 0        date          target  \\\n",
       "0           1  2014-10-09  thomas-frieden   \n",
       "1           2  2014-10-09  thomas-frieden   \n",
       "2           3  2015-06-16     politicians   \n",
       "3           4  2015-06-24      ben-cardin   \n",
       "4           5  2015-06-24      neil-young   \n",
       "\n",
       "                                              insult  \\\n",
       "0                                               fool   \n",
       "1                                               DOPE   \n",
       "2                             all talk and no action   \n",
       "3  It's politicians like Cardin that have destroy...   \n",
       "4                                    total hypocrite   \n",
       "\n",
       "                                               tweet  \n",
       "0  Can you believe this fool, Dr. Thomas Frieden ...  \n",
       "1  Can you believe this fool, Dr. Thomas Frieden ...  \n",
       "2  Big time in U.S. today - MAKE AMERICA GREAT AG...  \n",
       "3  Politician @SenatorCardin didn't like that I s...  \n",
       "4  For the nonbeliever, here is a photo of @Neily...  "
      ],
      "text/html": "<div>\n<style scoped>\n    .dataframe tbody tr th:only-of-type {\n        vertical-align: middle;\n    }\n\n    .dataframe tbody tr th {\n        vertical-align: top;\n    }\n\n    .dataframe thead th {\n        text-align: right;\n    }\n</style>\n<table border=\"1\" class=\"dataframe\">\n  <thead>\n    <tr style=\"text-align: right;\">\n      <th></th>\n      <th>Unnamed: 0</th>\n      <th>date</th>\n      <th>target</th>\n      <th>insult</th>\n      <th>tweet</th>\n    </tr>\n  </thead>\n  <tbody>\n    <tr>\n      <th>0</th>\n      <td>1</td>\n      <td>2014-10-09</td>\n      <td>thomas-frieden</td>\n      <td>fool</td>\n      <td>Can you believe this fool, Dr. Thomas Frieden ...</td>\n    </tr>\n    <tr>\n      <th>1</th>\n      <td>2</td>\n      <td>2014-10-09</td>\n      <td>thomas-frieden</td>\n      <td>DOPE</td>\n      <td>Can you believe this fool, Dr. Thomas Frieden ...</td>\n    </tr>\n    <tr>\n      <th>2</th>\n      <td>3</td>\n      <td>2015-06-16</td>\n      <td>politicians</td>\n      <td>all talk and no action</td>\n      <td>Big time in U.S. today - MAKE AMERICA GREAT AG...</td>\n    </tr>\n    <tr>\n      <th>3</th>\n      <td>4</td>\n      <td>2015-06-24</td>\n      <td>ben-cardin</td>\n      <td>It's politicians like Cardin that have destroy...</td>\n      <td>Politician @SenatorCardin didn't like that I s...</td>\n    </tr>\n    <tr>\n      <th>4</th>\n      <td>5</td>\n      <td>2015-06-24</td>\n      <td>neil-young</td>\n      <td>total hypocrite</td>\n      <td>For the nonbeliever, here is a photo of @Neily...</td>\n    </tr>\n  </tbody>\n</table>\n</div>"
     },
     "metadata": {},
     "execution_count": 12
    }
   ],
   "source": [
    "#Load tweets to data frame\n",
    "tweets_df = pd.read_csv(tweets_file)\n",
    "tweets_df.head()"
   ]
  },
  {
   "cell_type": "code",
   "execution_count": 11,
   "metadata": {},
   "outputs": [
    {
     "output_type": "execute_result",
     "data": {
      "text/plain": [
       "      president   subgroup  modeldate  startdate    enddate         pollster  \\\n",
       "0  Donald Trump  All polls  1/20/2021  1/20/2017  1/22/2017  Morning Consult   \n",
       "1  Donald Trump  All polls  1/20/2021  1/20/2017  1/22/2017           Gallup   \n",
       "2  Donald Trump  All polls  1/20/2021  1/20/2017  1/24/2017            Ipsos   \n",
       "3  Donald Trump  All polls  1/20/2021  1/21/2017  1/23/2017           Gallup   \n",
       "4  Donald Trump  All polls  1/20/2021  1/22/2017  1/24/2017           Gallup   \n",
       "\n",
       "  grade  samplesize population    weight  ...  disapprove  adjusted_approve  \\\n",
       "0   B/C      1992.0         rv  0.680029  ...        37.0         45.686784   \n",
       "1     B      1500.0          a  0.262323  ...        45.0         45.861441   \n",
       "2    B-      1632.0          a  0.153481  ...        45.2         43.451563   \n",
       "3     B      1500.0          a  0.242845  ...        46.0         45.861441   \n",
       "4     B      1500.0          a  0.227380  ...        45.0         46.861441   \n",
       "\n",
       "   adjusted_disapprove  multiversions  tracking  \\\n",
       "0            38.055805            NaN       NaN   \n",
       "1            43.539189            NaN         T   \n",
       "2            43.780389            NaN         T   \n",
       "3            44.539189            NaN         T   \n",
       "4            43.539189            NaN         T   \n",
       "\n",
       "                                                 url poll_id question_id  \\\n",
       "0  http://static.politico.com/9b/13/82a3baf542ae9...   49249       77261   \n",
       "1  http://www.gallup.com/poll/201617/gallup-daily...   49253       77265   \n",
       "2            http://polling.reuters.com/#poll/CP3_2/   49426       77599   \n",
       "3  http://www.gallup.com/poll/201617/gallup-daily...   49262       77274   \n",
       "4  http://www.gallup.com/poll/201617/gallup-daily...   49236       77248   \n",
       "\n",
       "   createddate             timestamp  \n",
       "0    1/23/2017  11:47:59 20 Jan 2021  \n",
       "1    1/23/2017  11:47:59 20 Jan 2021  \n",
       "2     3/1/2017  11:47:59 20 Jan 2021  \n",
       "3    1/24/2017  11:47:59 20 Jan 2021  \n",
       "4    1/25/2017  11:47:59 20 Jan 2021  \n",
       "\n",
       "[5 rows x 22 columns]"
      ],
      "text/html": "<div>\n<style scoped>\n    .dataframe tbody tr th:only-of-type {\n        vertical-align: middle;\n    }\n\n    .dataframe tbody tr th {\n        vertical-align: top;\n    }\n\n    .dataframe thead th {\n        text-align: right;\n    }\n</style>\n<table border=\"1\" class=\"dataframe\">\n  <thead>\n    <tr style=\"text-align: right;\">\n      <th></th>\n      <th>president</th>\n      <th>subgroup</th>\n      <th>modeldate</th>\n      <th>startdate</th>\n      <th>enddate</th>\n      <th>pollster</th>\n      <th>grade</th>\n      <th>samplesize</th>\n      <th>population</th>\n      <th>weight</th>\n      <th>...</th>\n      <th>disapprove</th>\n      <th>adjusted_approve</th>\n      <th>adjusted_disapprove</th>\n      <th>multiversions</th>\n      <th>tracking</th>\n      <th>url</th>\n      <th>poll_id</th>\n      <th>question_id</th>\n      <th>createddate</th>\n      <th>timestamp</th>\n    </tr>\n  </thead>\n  <tbody>\n    <tr>\n      <th>0</th>\n      <td>Donald Trump</td>\n      <td>All polls</td>\n      <td>1/20/2021</td>\n      <td>1/20/2017</td>\n      <td>1/22/2017</td>\n      <td>Morning Consult</td>\n      <td>B/C</td>\n      <td>1992.0</td>\n      <td>rv</td>\n      <td>0.680029</td>\n      <td>...</td>\n      <td>37.0</td>\n      <td>45.686784</td>\n      <td>38.055805</td>\n      <td>NaN</td>\n      <td>NaN</td>\n      <td>http://static.politico.com/9b/13/82a3baf542ae9...</td>\n      <td>49249</td>\n      <td>77261</td>\n      <td>1/23/2017</td>\n      <td>11:47:59 20 Jan 2021</td>\n    </tr>\n    <tr>\n      <th>1</th>\n      <td>Donald Trump</td>\n      <td>All polls</td>\n      <td>1/20/2021</td>\n      <td>1/20/2017</td>\n      <td>1/22/2017</td>\n      <td>Gallup</td>\n      <td>B</td>\n      <td>1500.0</td>\n      <td>a</td>\n      <td>0.262323</td>\n      <td>...</td>\n      <td>45.0</td>\n      <td>45.861441</td>\n      <td>43.539189</td>\n      <td>NaN</td>\n      <td>T</td>\n      <td>http://www.gallup.com/poll/201617/gallup-daily...</td>\n      <td>49253</td>\n      <td>77265</td>\n      <td>1/23/2017</td>\n      <td>11:47:59 20 Jan 2021</td>\n    </tr>\n    <tr>\n      <th>2</th>\n      <td>Donald Trump</td>\n      <td>All polls</td>\n      <td>1/20/2021</td>\n      <td>1/20/2017</td>\n      <td>1/24/2017</td>\n      <td>Ipsos</td>\n      <td>B-</td>\n      <td>1632.0</td>\n      <td>a</td>\n      <td>0.153481</td>\n      <td>...</td>\n      <td>45.2</td>\n      <td>43.451563</td>\n      <td>43.780389</td>\n      <td>NaN</td>\n      <td>T</td>\n      <td>http://polling.reuters.com/#poll/CP3_2/</td>\n      <td>49426</td>\n      <td>77599</td>\n      <td>3/1/2017</td>\n      <td>11:47:59 20 Jan 2021</td>\n    </tr>\n    <tr>\n      <th>3</th>\n      <td>Donald Trump</td>\n      <td>All polls</td>\n      <td>1/20/2021</td>\n      <td>1/21/2017</td>\n      <td>1/23/2017</td>\n      <td>Gallup</td>\n      <td>B</td>\n      <td>1500.0</td>\n      <td>a</td>\n      <td>0.242845</td>\n      <td>...</td>\n      <td>46.0</td>\n      <td>45.861441</td>\n      <td>44.539189</td>\n      <td>NaN</td>\n      <td>T</td>\n      <td>http://www.gallup.com/poll/201617/gallup-daily...</td>\n      <td>49262</td>\n      <td>77274</td>\n      <td>1/24/2017</td>\n      <td>11:47:59 20 Jan 2021</td>\n    </tr>\n    <tr>\n      <th>4</th>\n      <td>Donald Trump</td>\n      <td>All polls</td>\n      <td>1/20/2021</td>\n      <td>1/22/2017</td>\n      <td>1/24/2017</td>\n      <td>Gallup</td>\n      <td>B</td>\n      <td>1500.0</td>\n      <td>a</td>\n      <td>0.227380</td>\n      <td>...</td>\n      <td>45.0</td>\n      <td>46.861441</td>\n      <td>43.539189</td>\n      <td>NaN</td>\n      <td>T</td>\n      <td>http://www.gallup.com/poll/201617/gallup-daily...</td>\n      <td>49236</td>\n      <td>77248</td>\n      <td>1/25/2017</td>\n      <td>11:47:59 20 Jan 2021</td>\n    </tr>\n  </tbody>\n</table>\n<p>5 rows × 22 columns</p>\n</div>"
     },
     "metadata": {},
     "execution_count": 11
    }
   ],
   "source": [
    "#Load approval polls to data frame\n",
    "approval_df = pd.read_csv(approval_file)\n",
    "approval_df.head()"
   ]
  },
  {
   "cell_type": "markdown",
   "metadata": {},
   "source": [
    "### Transform tweets DataFrame"
   ]
  },
  {
   "cell_type": "code",
   "execution_count": 20,
   "metadata": {},
   "outputs": [
    {
     "output_type": "execute_result",
     "data": {
      "text/plain": [
       "            date           target  \\\n",
       "2357  2017-01-25              cnn   \n",
       "2358  2017-01-25          chicago   \n",
       "2359  2017-01-26  chelsea-manning   \n",
       "2360  2017-01-26  chelsea-manning   \n",
       "2361  2017-01-26  chelsea-manning   \n",
       "\n",
       "                                                 insult  \\\n",
       "2357                                          FAKE NEWS   \n",
       "2358  If Chicago doesn't fix the horrible carnage go...   \n",
       "2359                                 Ungrateful TRAITOR   \n",
       "2360        should never have been released from prison   \n",
       "2361                                          Terrible!   \n",
       "\n",
       "                                                  tweet  \n",
       "2357  Congratulations to @FoxNews for being number o...  \n",
       "2358  If Chicago doesn't fix the horrible \"carnage\" ...  \n",
       "2359  Ungrateful TRAITOR Chelsea Manning, who should...  \n",
       "2360  Ungrateful TRAITOR Chelsea Manning, who should...  \n",
       "2361  Ungrateful TRAITOR Chelsea Manning, who should...  "
      ],
      "text/html": "<div>\n<style scoped>\n    .dataframe tbody tr th:only-of-type {\n        vertical-align: middle;\n    }\n\n    .dataframe tbody tr th {\n        vertical-align: top;\n    }\n\n    .dataframe thead th {\n        text-align: right;\n    }\n</style>\n<table border=\"1\" class=\"dataframe\">\n  <thead>\n    <tr style=\"text-align: right;\">\n      <th></th>\n      <th>date</th>\n      <th>target</th>\n      <th>insult</th>\n      <th>tweet</th>\n    </tr>\n  </thead>\n  <tbody>\n    <tr>\n      <th>2357</th>\n      <td>2017-01-25</td>\n      <td>cnn</td>\n      <td>FAKE NEWS</td>\n      <td>Congratulations to @FoxNews for being number o...</td>\n    </tr>\n    <tr>\n      <th>2358</th>\n      <td>2017-01-25</td>\n      <td>chicago</td>\n      <td>If Chicago doesn't fix the horrible carnage go...</td>\n      <td>If Chicago doesn't fix the horrible \"carnage\" ...</td>\n    </tr>\n    <tr>\n      <th>2359</th>\n      <td>2017-01-26</td>\n      <td>chelsea-manning</td>\n      <td>Ungrateful TRAITOR</td>\n      <td>Ungrateful TRAITOR Chelsea Manning, who should...</td>\n    </tr>\n    <tr>\n      <th>2360</th>\n      <td>2017-01-26</td>\n      <td>chelsea-manning</td>\n      <td>should never have been released from prison</td>\n      <td>Ungrateful TRAITOR Chelsea Manning, who should...</td>\n    </tr>\n    <tr>\n      <th>2361</th>\n      <td>2017-01-26</td>\n      <td>chelsea-manning</td>\n      <td>Terrible!</td>\n      <td>Ungrateful TRAITOR Chelsea Manning, who should...</td>\n    </tr>\n  </tbody>\n</table>\n</div>"
     },
     "metadata": {},
     "execution_count": 20
    }
   ],
   "source": [
    "#Delete all tweets before 2017 inauguration\n",
    "cleanTweets_df = tweets_df.drop(tweets_df[tweets_df['date'] < '2017-01-20'].index)\n",
    "#delete column thats not needed\n",
    "del cleanTweets_df['Unnamed: 0']\n",
    "cleanTweets_df.head()"
   ]
  },
  {
   "cell_type": "code",
   "execution_count": 21,
   "metadata": {},
   "outputs": [
    {
     "output_type": "execute_result",
     "data": {
      "text/plain": [
       "            date           target\n",
       "2357  2017-01-25              cnn\n",
       "2358  2017-01-25          chicago\n",
       "2359  2017-01-26  chelsea-manning\n",
       "2360  2017-01-26  chelsea-manning\n",
       "2361  2017-01-26  chelsea-manning"
      ],
      "text/html": "<div>\n<style scoped>\n    .dataframe tbody tr th:only-of-type {\n        vertical-align: middle;\n    }\n\n    .dataframe tbody tr th {\n        vertical-align: top;\n    }\n\n    .dataframe thead th {\n        text-align: right;\n    }\n</style>\n<table border=\"1\" class=\"dataframe\">\n  <thead>\n    <tr style=\"text-align: right;\">\n      <th></th>\n      <th>date</th>\n      <th>target</th>\n    </tr>\n  </thead>\n  <tbody>\n    <tr>\n      <th>2357</th>\n      <td>2017-01-25</td>\n      <td>cnn</td>\n    </tr>\n    <tr>\n      <th>2358</th>\n      <td>2017-01-25</td>\n      <td>chicago</td>\n    </tr>\n    <tr>\n      <th>2359</th>\n      <td>2017-01-26</td>\n      <td>chelsea-manning</td>\n    </tr>\n    <tr>\n      <th>2360</th>\n      <td>2017-01-26</td>\n      <td>chelsea-manning</td>\n    </tr>\n    <tr>\n      <th>2361</th>\n      <td>2017-01-26</td>\n      <td>chelsea-manning</td>\n    </tr>\n  </tbody>\n</table>\n</div>"
     },
     "metadata": {},
     "execution_count": 21
    }
   ],
   "source": [
    "#Copy only relevant data to a new data frame\n",
    "tweetdates_df = cleanTweets_df[[\"date\", \"target\"]].copy()\n",
    "tweetdates_df.head()"
   ]
  },
  {
   "cell_type": "code",
   "execution_count": 22,
   "metadata": {},
   "outputs": [
    {
     "output_type": "execute_result",
     "data": {
      "text/plain": [
       "            target\n",
       "date              \n",
       "2017-01-25       2\n",
       "2017-01-26       4\n",
       "2017-01-28       8\n",
       "2017-01-29       5\n",
       "2017-01-31       6"
      ],
      "text/html": "<div>\n<style scoped>\n    .dataframe tbody tr th:only-of-type {\n        vertical-align: middle;\n    }\n\n    .dataframe tbody tr th {\n        vertical-align: top;\n    }\n\n    .dataframe thead th {\n        text-align: right;\n    }\n</style>\n<table border=\"1\" class=\"dataframe\">\n  <thead>\n    <tr style=\"text-align: right;\">\n      <th></th>\n      <th>target</th>\n    </tr>\n    <tr>\n      <th>date</th>\n      <th></th>\n    </tr>\n  </thead>\n  <tbody>\n    <tr>\n      <th>2017-01-25</th>\n      <td>2</td>\n    </tr>\n    <tr>\n      <th>2017-01-26</th>\n      <td>4</td>\n    </tr>\n    <tr>\n      <th>2017-01-28</th>\n      <td>8</td>\n    </tr>\n    <tr>\n      <th>2017-01-29</th>\n      <td>5</td>\n    </tr>\n    <tr>\n      <th>2017-01-31</th>\n      <td>6</td>\n    </tr>\n  </tbody>\n</table>\n</div>"
     },
     "metadata": {},
     "execution_count": 22
    }
   ],
   "source": [
    "#Testing to see how many tweets per day\n",
    "grouped_tweets = tweetdates_df.groupby(by=\"date\").count()\n",
    "grouped_tweets.head()"
   ]
  },
  {
   "cell_type": "markdown",
   "metadata": {},
   "source": [
    "### Transform approval DataFrame"
   ]
  },
  {
   "cell_type": "code",
   "execution_count": 8,
   "metadata": {},
   "outputs": [
    {
     "output_type": "execute_result",
     "data": {
      "text/plain": [
       "   startdate    enddate         pollster  samplesize  adjusted_approve  \\\n",
       "0  1/20/2017  1/22/2017  Morning Consult      1992.0         45.686784   \n",
       "1  1/20/2017  1/22/2017           Gallup      1500.0         45.861441   \n",
       "2  1/20/2017  1/24/2017            Ipsos      1632.0         43.451563   \n",
       "3  1/21/2017  1/23/2017           Gallup      1500.0         45.861441   \n",
       "4  1/22/2017  1/24/2017           Gallup      1500.0         46.861441   \n",
       "\n",
       "   adjusted_disapprove                                                url  \n",
       "0            38.055805  http://static.politico.com/9b/13/82a3baf542ae9...  \n",
       "1            43.539189  http://www.gallup.com/poll/201617/gallup-daily...  \n",
       "2            43.780389            http://polling.reuters.com/#poll/CP3_2/  \n",
       "3            44.539189  http://www.gallup.com/poll/201617/gallup-daily...  \n",
       "4            43.539189  http://www.gallup.com/poll/201617/gallup-daily...  "
      ],
      "text/html": "<div>\n<style scoped>\n    .dataframe tbody tr th:only-of-type {\n        vertical-align: middle;\n    }\n\n    .dataframe tbody tr th {\n        vertical-align: top;\n    }\n\n    .dataframe thead th {\n        text-align: right;\n    }\n</style>\n<table border=\"1\" class=\"dataframe\">\n  <thead>\n    <tr style=\"text-align: right;\">\n      <th></th>\n      <th>startdate</th>\n      <th>enddate</th>\n      <th>pollster</th>\n      <th>samplesize</th>\n      <th>adjusted_approve</th>\n      <th>adjusted_disapprove</th>\n      <th>url</th>\n    </tr>\n  </thead>\n  <tbody>\n    <tr>\n      <th>0</th>\n      <td>1/20/2017</td>\n      <td>1/22/2017</td>\n      <td>Morning Consult</td>\n      <td>1992.0</td>\n      <td>45.686784</td>\n      <td>38.055805</td>\n      <td>http://static.politico.com/9b/13/82a3baf542ae9...</td>\n    </tr>\n    <tr>\n      <th>1</th>\n      <td>1/20/2017</td>\n      <td>1/22/2017</td>\n      <td>Gallup</td>\n      <td>1500.0</td>\n      <td>45.861441</td>\n      <td>43.539189</td>\n      <td>http://www.gallup.com/poll/201617/gallup-daily...</td>\n    </tr>\n    <tr>\n      <th>2</th>\n      <td>1/20/2017</td>\n      <td>1/24/2017</td>\n      <td>Ipsos</td>\n      <td>1632.0</td>\n      <td>43.451563</td>\n      <td>43.780389</td>\n      <td>http://polling.reuters.com/#poll/CP3_2/</td>\n    </tr>\n    <tr>\n      <th>3</th>\n      <td>1/21/2017</td>\n      <td>1/23/2017</td>\n      <td>Gallup</td>\n      <td>1500.0</td>\n      <td>45.861441</td>\n      <td>44.539189</td>\n      <td>http://www.gallup.com/poll/201617/gallup-daily...</td>\n    </tr>\n    <tr>\n      <th>4</th>\n      <td>1/22/2017</td>\n      <td>1/24/2017</td>\n      <td>Gallup</td>\n      <td>1500.0</td>\n      <td>46.861441</td>\n      <td>43.539189</td>\n      <td>http://www.gallup.com/poll/201617/gallup-daily...</td>\n    </tr>\n  </tbody>\n</table>\n</div>"
     },
     "metadata": {},
     "execution_count": 8
    }
   ],
   "source": [
    "#Shrinking approval polls to relevant fields for app (url to be used as reference if required)\n",
    "approvalfinal_df = approval_df[[\"startdate\",\"enddate\",\"pollster\",\"samplesize\",\"adjusted_approve\",\"adjusted_disapprove\",\"url\"]].copy()\n",
    "approvalfinal_df.head()"
   ]
  },
  {
   "cell_type": "code",
   "execution_count": 9,
   "metadata": {},
   "outputs": [
    {
     "output_type": "execute_result",
     "data": {
      "text/plain": [
       "   startdate    enddate         pollster  samplesize  adjusted_approve  \\\n",
       "0 2017-01-20 2017-01-22  Morning Consult      1992.0         45.686784   \n",
       "1 2017-01-20 2017-01-22           Gallup      1500.0         45.861441   \n",
       "2 2017-01-20 2017-01-24            Ipsos      1632.0         43.451563   \n",
       "3 2017-01-21 2017-01-23           Gallup      1500.0         45.861441   \n",
       "4 2017-01-22 2017-01-24           Gallup      1500.0         46.861441   \n",
       "\n",
       "   adjusted_disapprove                                                url  \n",
       "0            38.055805  http://static.politico.com/9b/13/82a3baf542ae9...  \n",
       "1            43.539189  http://www.gallup.com/poll/201617/gallup-daily...  \n",
       "2            43.780389            http://polling.reuters.com/#poll/CP3_2/  \n",
       "3            44.539189  http://www.gallup.com/poll/201617/gallup-daily...  \n",
       "4            43.539189  http://www.gallup.com/poll/201617/gallup-daily...  "
      ],
      "text/html": "<div>\n<style scoped>\n    .dataframe tbody tr th:only-of-type {\n        vertical-align: middle;\n    }\n\n    .dataframe tbody tr th {\n        vertical-align: top;\n    }\n\n    .dataframe thead th {\n        text-align: right;\n    }\n</style>\n<table border=\"1\" class=\"dataframe\">\n  <thead>\n    <tr style=\"text-align: right;\">\n      <th></th>\n      <th>startdate</th>\n      <th>enddate</th>\n      <th>pollster</th>\n      <th>samplesize</th>\n      <th>adjusted_approve</th>\n      <th>adjusted_disapprove</th>\n      <th>url</th>\n    </tr>\n  </thead>\n  <tbody>\n    <tr>\n      <th>0</th>\n      <td>2017-01-20</td>\n      <td>2017-01-22</td>\n      <td>Morning Consult</td>\n      <td>1992.0</td>\n      <td>45.686784</td>\n      <td>38.055805</td>\n      <td>http://static.politico.com/9b/13/82a3baf542ae9...</td>\n    </tr>\n    <tr>\n      <th>1</th>\n      <td>2017-01-20</td>\n      <td>2017-01-22</td>\n      <td>Gallup</td>\n      <td>1500.0</td>\n      <td>45.861441</td>\n      <td>43.539189</td>\n      <td>http://www.gallup.com/poll/201617/gallup-daily...</td>\n    </tr>\n    <tr>\n      <th>2</th>\n      <td>2017-01-20</td>\n      <td>2017-01-24</td>\n      <td>Ipsos</td>\n      <td>1632.0</td>\n      <td>43.451563</td>\n      <td>43.780389</td>\n      <td>http://polling.reuters.com/#poll/CP3_2/</td>\n    </tr>\n    <tr>\n      <th>3</th>\n      <td>2017-01-21</td>\n      <td>2017-01-23</td>\n      <td>Gallup</td>\n      <td>1500.0</td>\n      <td>45.861441</td>\n      <td>44.539189</td>\n      <td>http://www.gallup.com/poll/201617/gallup-daily...</td>\n    </tr>\n    <tr>\n      <th>4</th>\n      <td>2017-01-22</td>\n      <td>2017-01-24</td>\n      <td>Gallup</td>\n      <td>1500.0</td>\n      <td>46.861441</td>\n      <td>43.539189</td>\n      <td>http://www.gallup.com/poll/201617/gallup-daily...</td>\n    </tr>\n  </tbody>\n</table>\n</div>"
     },
     "metadata": {},
     "execution_count": 9
    }
   ],
   "source": [
    "#Converting dates to ISO format\n",
    "approvalfinal_df[\"startdate\"] = pd.to_datetime(approvalfinal_df.startdate)\n",
    "approvalfinal_df[\"enddate\"] = pd.to_datetime(approvalfinal_df.enddate)\n",
    "approvalfinal_df.head()"
   ]
  },
  {
   "cell_type": "markdown",
   "metadata": {},
   "source": [
    "### Create database connection"
   ]
  },
  {
   "cell_type": "code",
   "execution_count": null,
   "metadata": {},
   "outputs": [],
   "source": [
    "#connection string using config data\n",
    "rds_connection_string = f'{postgresUname}:{postgresPword}@{postgresHost}/{postgresDb}'\n",
    "engine = create_engine(f'postgresql://{rds_connection_string}')"
   ]
  },
  {
   "cell_type": "code",
   "execution_count": null,
   "metadata": {},
   "outputs": [],
   "source": [
    "# Confirm tables\n",
    "engine.table_names()"
   ]
  },
  {
   "cell_type": "markdown",
   "metadata": {},
   "source": [
    "### Load DataFrames into database"
   ]
  },
  {
   "cell_type": "code",
   "execution_count": null,
   "metadata": {},
   "outputs": [],
   "source": [
    "#load tweet data\n",
    "tweetdates_df.to_sql(name='Trumptweets', con=engine, if_exists='append', index=False)"
   ]
  },
  {
   "cell_type": "code",
   "execution_count": null,
   "metadata": {},
   "outputs": [],
   "source": [
    "#load approval data\n",
    "approvalfinal_df.to_sql(name='Approval_rating', con=engine, if_exists='append', index=False)"
   ]
  },
  {
   "source": [
    "###  Confirm data has been added"
   ],
   "cell_type": "markdown",
   "metadata": {}
  },
  {
   "cell_type": "code",
   "execution_count": null,
   "metadata": {},
   "outputs": [],
   "source": [
    "#check tweet data\n",
    "pd.read_sql_query('select * from Trumptweets', con=engine).head()"
   ]
  },
  {
   "cell_type": "code",
   "execution_count": null,
   "metadata": {},
   "outputs": [],
   "source": [
    "#check approval data\n",
    "pd.read_sql_query('select * from Approval_rating', con=engine).head()"
   ]
  }
 ],
 "metadata": {
  "kernelspec": {
   "name": "python3",
   "display_name": "Python 3",
   "language": "python"
  },
  "language_info": {
   "codemirror_mode": {
    "name": "ipython",
    "version": 3
   },
   "file_extension": ".py",
   "mimetype": "text/x-python",
   "name": "python",
   "nbconvert_exporter": "python",
   "pygments_lexer": "ipython3",
   "version": "3.6.10-final"
  }
 },
 "nbformat": 4,
 "nbformat_minor": 2
}